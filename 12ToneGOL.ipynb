{
 "cells": [
  {
   "cell_type": "code",
   "execution_count": 6,
   "metadata": {},
   "outputs": [
    {
     "name": "stdout",
     "output_type": "stream",
     "text": [
      "[['E' 'C' 'Bb' 'C#' 'F#' 'F' 'Eb' 'G#' 'A' 'G' 'B' 'D']\n",
      " ['C#' 'D' 'B' 'F' 'G#' 'C' 'F#' 'E' 'G' 'Eb' 'A' 'Bb']\n",
      " ['F' 'Bb' 'A' 'C' 'E' 'D' 'G#' 'C#' 'Eb' 'F#' 'G' 'B']\n",
      " ['C' 'B' 'G' 'D' 'C#' 'Bb' 'E' 'F' 'F#' 'G#' 'Eb' 'A']\n",
      " ['D' 'A' 'Eb' 'Bb' 'F' 'B' 'C#' 'C' 'G#' 'E' 'F#' 'G']\n",
      " ['Bb' 'G' 'F#' 'B' 'C' 'A' 'F' 'D' 'E' 'C#' 'G#' 'Eb']\n",
      " ['B' 'Eb' 'G#' 'A' 'D' 'G' 'C' 'Bb' 'C#' 'F' 'E' 'F#']\n",
      " ['A' 'F#' 'E' 'G' 'Bb' 'Eb' 'D' 'B' 'F' 'C' 'C#' 'G#']\n",
      " ['G' 'G#' 'C#' 'Eb' 'B' 'F#' 'Bb' 'A' 'C' 'D' 'F' 'E']\n",
      " ['Eb' 'E' 'F' 'F#' 'A' 'G#' 'B' 'G' 'D' 'Bb' 'C' 'C#']\n",
      " ['F#' 'C#' 'C' 'G#' 'G' 'E' 'A' 'Eb' 'Bb' 'B' 'D' 'F']\n",
      " ['G#' 'F' 'D' 'E' 'Eb' 'C#' 'G' 'F#' 'B' 'A' 'Bb' 'C']]\n",
      "[[0 0 0 1 1 1 0 0 0 0 0 0]\n",
      " [1 1 0 0 0 1 0 0 0 0 0 0]\n",
      " [1 1 1 1 1 0 0 0 0 0 0 0]\n",
      " [0 0 0 0 0 0 0 0 0 0 0 0]\n",
      " [1 1 1 1 1 0 0 0 0 0 0 0]\n",
      " [1 1 0 0 0 1 0 0 0 0 0 0]\n",
      " [0 0 0 1 1 1 0 0 0 0 0 0]\n",
      " [0 0 0 0 0 0 0 0 0 0 0 0]\n",
      " [0 0 0 0 0 0 0 0 0 0 0 0]\n",
      " [0 0 0 0 0 0 0 0 0 0 0 0]\n",
      " [0 0 0 0 0 0 0 0 0 0 0 0]\n",
      " [0 0 0 0 0 0 0 0 0 0 0 0]]\n"
     ]
    }
   ],
   "source": [
    "import numpy as np\n",
    "from IPython.display import clear_output\n",
    "import time\n",
    "\n",
    "tablero = np.zeros(shape = (12, 12), dtype=int)\n",
    "op = [(0, 1), (1, 0), (1, 1), (-1, 1)]\n",
    "\n",
    "notas = ['C', 'C#', 'D', 'Eb', 'E', 'F', 'F#', 'G', 'G#', 'A', 'Bb', 'B']\n",
    "\n",
    "orden = [3, 6, 8, 4, 1, 5, 0, 2, 10, 11, 9, 7]\n",
    "prima_cero = [notas[i] for i in orden]\n",
    "secuencia = []\n",
    "\n",
    "for j in range(0,12):\n",
    "    secuencia.append([prima_cero[(i+j) % 12] for i in orden])\n",
    "    \n",
    "secuencia = np.array(secuencia)\n",
    "    \n",
    "vivos_iniciales = [(0,3), (0,4), (0,5), (1,0), (1,1), (1,5), (2,0), (2,1), (2,2), (2,3), (2,4), (4,0), (4,1), (4,2), (4,3), (4,4), (5,0), (5,1), (5,5), (6,3), (6,4), (6,5)]\n",
    "\n",
    "for i in vivos_iniciales:\n",
    "    tablero[i] = 1\n",
    "    \n",
    "print (secuencia)\n",
    "print(tablero)"
   ]
  },
  {
   "cell_type": "code",
   "execution_count": 12,
   "metadata": {},
   "outputs": [
    {
     "ename": "AttributeError",
     "evalue": "module 'numpy' has no attribute 'join'",
     "output_type": "error",
     "traceback": [
      "\u001b[0;31m---------------------------------------------------------------------------\u001b[0m",
      "\u001b[0;31mAttributeError\u001b[0m                            Traceback (most recent call last)",
      "\u001b[0;32m<ipython-input-12-2c644a33da5f>\u001b[0m in \u001b[0;36m<module>\u001b[0;34m\u001b[0m\n\u001b[1;32m     44\u001b[0m                     \u001b[0mtablero\u001b[0m\u001b[0;34m[\u001b[0m\u001b[0mi\u001b[0m\u001b[0;34m]\u001b[0m\u001b[0;34m[\u001b[0m\u001b[0mj\u001b[0m\u001b[0;34m]\u001b[0m \u001b[0;34m=\u001b[0m \u001b[0;36m1\u001b[0m\u001b[0;34m\u001b[0m\u001b[0;34m\u001b[0m\u001b[0m\n\u001b[1;32m     45\u001b[0m \u001b[0;34m\u001b[0m\u001b[0m\n\u001b[0;32m---> 46\u001b[0;31m             \u001b[0mmusica\u001b[0m\u001b[0;34m[\u001b[0m\u001b[0mi\u001b[0m\u001b[0;34m]\u001b[0m\u001b[0;34m[\u001b[0m\u001b[0mj\u001b[0m\u001b[0;34m]\u001b[0m \u001b[0;34m=\u001b[0m \u001b[0mnp\u001b[0m\u001b[0;34m.\u001b[0m\u001b[0mjoin\u001b[0m\u001b[0;34m(\u001b[0m\u001b[0mtablero\u001b[0m\u001b[0;34m[\u001b[0m\u001b[0mi\u001b[0m\u001b[0;34m]\u001b[0m\u001b[0;34m[\u001b[0m\u001b[0mj\u001b[0m\u001b[0;34m]\u001b[0m\u001b[0;34m,\u001b[0m\u001b[0msecuencia\u001b[0m\u001b[0;34m[\u001b[0m\u001b[0mi\u001b[0m\u001b[0;34m]\u001b[0m\u001b[0;34m[\u001b[0m\u001b[0mj\u001b[0m\u001b[0;34m]\u001b[0m\u001b[0;34m)\u001b[0m\u001b[0;34m\u001b[0m\u001b[0;34m\u001b[0m\u001b[0m\n\u001b[0m\u001b[1;32m     47\u001b[0m \u001b[0;34m\u001b[0m\u001b[0m\n\u001b[1;32m     48\u001b[0m             \u001b[0;32mif\u001b[0m \u001b[0mtablero\u001b[0m\u001b[0;34m[\u001b[0m\u001b[0mi\u001b[0m\u001b[0;34m]\u001b[0m\u001b[0;34m[\u001b[0m\u001b[0mj\u001b[0m\u001b[0;34m]\u001b[0m \u001b[0;34m==\u001b[0m \u001b[0;36m1\u001b[0m\u001b[0;34m:\u001b[0m\u001b[0;34m\u001b[0m\u001b[0;34m\u001b[0m\u001b[0m\n",
      "\u001b[0;31mAttributeError\u001b[0m: module 'numpy' has no attribute 'join'"
     ]
    }
   ],
   "source": [
    "prev = tablero.copy()\n",
    "total_vecinos = np.zeros_like(tablero)\n",
    "musica = np.zeros(shape = tablero.shape, dtype = str)\n",
    "\n",
    "linea = []\n",
    "lineas = []\n",
    "\n",
    "generaciones = 0\n",
    "\n",
    "\n",
    "print(tablero, end = ' ', flush=True)\n",
    "clear_output(wait=True)\n",
    "\n",
    "while True:\n",
    "    for i in range (0, len(tablero)):\n",
    "        for j in range (0, len(tablero)):\n",
    "            \n",
    "            casillas_vecinas = []\n",
    "            vecinos_vivos = 0\n",
    "            \n",
    "            \n",
    "            for a in op:\n",
    "                casillas_vecinas.append(list(map(sum, zip([i, j], a))))\n",
    "                casillas_vecinas.append(list(map(sum, zip([i, j], [-x for x in a]))))\n",
    "\n",
    "            for m, n in casillas_vecinas:\n",
    "                try:\n",
    "                    if tablero[m][n] == 1:\n",
    "                        vecinos_vivos +=1\n",
    "                except IndexError:\n",
    "                    pass\n",
    "                \n",
    "            total_vecinos[i][j] = vecinos_vivos\n",
    "\n",
    "    for i in range (0, len(tablero)):\n",
    "        for j in range (0, len(tablero)):\n",
    "            if prev[i][j] == 1:\n",
    "                if total_vecinos[i][j] < 2 or total_vecinos[i][j] > 3:\n",
    "                    tablero[i][j] = 0\n",
    "                elif total_vecinos[i][j] == 2 or total_vecinos[i][j] == 3:\n",
    "                    tablero[i][j] = 1\n",
    "            elif prev[i][j] == 0:\n",
    "                if total_vecinos[i][j] == 3:\n",
    "                    tablero[i][j] = 1\n",
    "    \n",
    "            musica[i][j] = np.\n",
    "        (tablero[i][j],secuencia[i][j])\n",
    "            \n",
    "            if tablero[i][j] == 1:\n",
    "                linea.append(str(secuencia[i][j]))\n",
    "                \n",
    "            \n",
    "#     print(linea)\n",
    "    lineas.append([generaciones, linea])\n",
    "    linea = []\n",
    "    print(musica)\n",
    "    clear_output(wait=True)\n",
    "    if np.array_equal(tablero, prev):\n",
    "        break\n",
    "        \n",
    "    generaciones += 1\n",
    "    prev = tablero.copy()\n",
    "    \n",
    "    time.sleep(0.1)"
   ]
  },
  {
   "cell_type": "code",
   "execution_count": 3,
   "metadata": {},
   "outputs": [
    {
     "name": "stdout",
     "output_type": "stream",
     "text": [
      "54\n",
      "[[0, ['F#', 'F', 'C#', 'C', 'F', 'A', 'C', 'E', 'D', 'Eb', 'Bb', 'F', 'Bb', 'A', 'D', 'G', 'Bb']], [1, ['F#', 'F', 'D', 'C', 'Bb', 'C', 'E', 'A', 'Bb', 'F', 'G', 'A', 'D', 'G', 'Bb', 'Eb']], [2, ['F#', 'F', 'B', 'F', 'C', 'A', 'E', 'Eb', 'F', 'F#', 'B', 'A', 'C', 'Bb', 'Eb']], [3, ['C#', 'F#', 'F', 'B', 'C', 'A', 'E', 'Eb', 'F', 'F#', 'B', 'C', 'A', 'A', 'C', 'Eb']], [4, ['C#', 'F#', 'F', 'B', 'C', 'C', 'Eb', 'F', 'B', 'F#', 'A', 'G#', 'A', 'C']], [5, ['C#', 'F#', 'F', 'B', 'C', 'D', 'C#', 'Bb', 'F', 'B', 'G', 'F#', 'A', 'F', 'G#', 'A']], [6, ['C#', 'F#', 'F', 'F', 'C', 'C', 'E', 'D', 'Bb', 'C#', 'G', 'A', 'F', 'Eb', 'G#', 'A']], [7, ['C#', 'F', 'B', 'C', 'A', 'C', 'D', 'D', 'Bb', 'F', 'C#', 'G', 'A', 'F', 'Eb', 'G#', 'E']], [8, ['F#', 'B', 'C', 'F#', 'A', 'C', 'D', 'G#', 'G', 'D', 'Bb', 'E', 'F', 'C#', 'G', 'F#', 'A', 'F', 'Eb', 'G#', 'F#', 'E']], [9, ['F', 'B', 'F#', 'Bb', 'C#', 'G', 'F', 'A', 'F', 'C', 'G', 'F#', 'B', 'A', 'F', 'B', 'A', 'F#', 'E']], [10, ['F#', 'Bb', 'A', 'G#', 'C#', 'B', 'G', 'E', 'F', 'F#', 'A', 'F', 'B', 'C', 'Bb', 'G', 'B', 'A', 'F', 'B', 'A', 'D', 'F#', 'E']], [11, ['F#', 'E', 'Bb', 'A', 'D', 'Eb', 'C', 'D', 'F#', 'Bb', 'F', 'G#', 'Bb', 'G', 'B', 'F', 'B', 'A', 'D', 'G', 'F#', 'E', 'G']], [12, ['F#', 'E', 'Bb', 'A', 'G#', 'Eb', 'B', 'D', 'F', 'F#', 'G#', 'D', 'A', 'Bb', 'F', 'C', 'Bb', 'G', 'B', 'G', 'F#', 'E', 'G', 'C#']], [13, ['F#', 'E', 'Bb', 'A', 'G#', 'F#', 'D', 'C#', 'E', 'G#', 'Bb', 'F', 'C', 'F#', 'C', 'B', 'F#', 'E', 'G', 'G#', 'C#', 'Eb']], [14, ['F#', 'E', 'A', 'C', 'G#', 'Eb', 'C#', 'E', 'F', 'F#', 'Eb', 'C', 'A', 'G', 'G#', 'Eb', 'F']], [15, ['F#', 'E', 'C', 'Eb', 'G', 'Bb', 'E', 'F#', 'Bb', 'B', 'C', 'E', 'G#', 'Eb', 'F']], [16, ['E', 'D', 'Eb', 'G', 'D', 'Bb', 'E', 'F#', 'F', 'B', 'C', 'E', 'G#', 'Eb', 'F']], [17, ['E', 'D', 'Eb', 'D', 'F#', 'Bb', 'F', 'B', 'C', 'E', 'G#', 'Eb', 'F']], [18, ['E', 'D', 'E', 'F', 'F#', 'Bb', 'F', 'C', 'E', 'G#', 'Eb', 'F']], [19, ['C#', 'D', 'Bb', 'F', 'Bb', 'F', 'B', 'C', 'B', 'C', 'E', 'G#', 'Eb', 'F']], [20, ['G#', 'D', 'Bb', 'F', 'F#', 'Eb', 'B', 'B', 'A', 'A', 'E', 'G#', 'Eb', 'F']], [21, ['G#', 'C#', 'C#', 'Bb', 'F', 'Eb', 'Bb', 'B', 'F#', 'B', 'G#', 'A', 'D', 'E', 'G', 'G#', 'Eb', 'F']], [22, ['D', 'G#', 'C#', 'D', 'C#', 'Bb', 'F', 'Eb', 'B', 'C#', 'G', 'Eb', 'D', 'F#', 'G#', 'Eb', 'F']], [23, ['F#', 'D', 'C#', 'D', 'F', 'Eb', 'Bb', 'B', 'C#', 'G', 'F#', 'A', 'B', 'Eb', 'G#', 'A', 'F#', 'G#', 'F']], [24, ['F#', 'C#', 'G', 'D', 'Bb', 'F', 'A', 'Bb', 'B', 'C#', 'Bb', 'C', 'A', 'F', 'G', 'G#', 'C#']], [25, ['C#', 'G', 'D', 'Bb', 'F', 'A', 'Bb', 'C', 'C', 'F', 'G', 'F#', 'G#', 'E']], [26, ['G#', 'G', 'D', 'C#', 'F', 'F#', 'Bb', 'B', 'C', 'C', 'A', 'F', 'G', 'G', 'G#', 'C#']], [27, ['C', 'C#', 'G', 'D', 'C#', 'Bb', 'F', 'F#', 'Eb', 'C', 'G#', 'D', 'G', 'C', 'F#', 'G#', 'E']], [28, ['A', 'C', 'G#', 'C#', 'Eb', 'G', 'C#', 'Eb', 'F', 'C#', 'C', 'G#', 'A', 'F', 'D', 'G', 'Eb', 'G', 'G#', 'C#']], [29, ['E', 'A', 'C', 'C#', 'B', 'G', 'C#', 'F', 'G#', 'C', 'E', 'D', 'G', 'F#', 'G#', 'E']], [30, ['Bb', 'A', 'C', 'B', 'G', 'C#', 'F', 'B', 'B', 'C', 'D', 'G', 'G', 'G#', 'C#']], [31, ['B', 'Bb', 'C', 'B', 'C#', 'Bb', 'Eb', 'B', 'B', 'A', 'D', 'G', 'F#', 'G#', 'E']], [32, ['B', 'Bb', 'C', 'E', 'B', 'D', 'C#', 'Bb', 'Eb', 'Bb', 'B', 'F#', 'B', 'A', 'G#', 'A', 'D', 'E', 'Bb', 'G', 'G#', 'C#']], [33, ['B', 'F', 'Bb', 'D', 'B', 'Bb', 'A', 'B', 'C#', 'G', 'A', 'Eb', 'G', 'Bb', 'G#', 'C#', 'Eb', 'E']], [34, ['B', 'Bb', 'E', 'C', 'B', 'G', 'C#', 'Bb', 'D', 'A', 'Eb', 'F', 'B', 'C#', 'Bb', 'G', 'F#', 'C', 'A', 'D', 'G', 'F#', 'G', 'Bb', 'G#', 'C#', 'Eb', 'E']], [35, ['F', 'E', 'D', 'E', 'C#', 'Bb', 'F#', 'B', 'F#', 'Eb', 'G', 'G#', 'Eb', 'B', 'E']], [36, ['D', 'E', 'G', 'B', 'F#', 'E', 'Bb', 'G', 'G#', 'B', 'Eb', 'E', 'F']], [37, ['B', 'G#', 'E', 'G', 'Eb', 'F', 'C#']], [38, ['Eb', 'G#', 'A', 'F#', 'E', 'G', 'G#', 'C#', 'Eb', 'E', 'C#']], [39, ['F#', 'Eb', 'A', 'A', 'Bb', 'G', 'Eb', 'Eb', 'E']], [40, ['F#', 'Eb', 'G#', 'A', 'A', 'F#', 'E', 'G', 'Bb', 'G', 'Eb', 'E']], [41, ['G', 'F#', 'B', 'B', 'D', 'A', 'Bb', 'Eb', 'Eb', 'E']], [42, ['Eb', 'G', 'F#', 'B', 'B', 'G#', 'D', 'G', 'Bb', 'G', 'G#']], [43, ['A', 'Eb', 'Bb', 'D', 'A', 'E', 'G', 'Bb']], [44, ['G', 'Eb', 'F#', 'B', 'D', 'G', 'Bb', 'Eb']], [45, ['A', 'Eb', 'F#', 'B', 'G#', 'D', 'G', 'Bb', 'Eb', 'B']], [46, ['A', 'Eb', 'Bb', 'G#', 'D', 'E', 'Eb', 'Eb', 'B']], [47, ['G', 'Eb', 'G', 'A', 'E', 'Eb', 'Eb', 'B']], [48, ['A', 'Eb', 'F#', 'G#', 'E', 'Eb', 'B']], [49, ['A', 'Eb', 'F#', 'B', 'Eb', 'G#', 'A', 'E', 'Eb']], [50, ['A', 'Eb', 'Bb', 'Eb', 'F#']], [51, ['G', 'Eb', 'G']], [52, ['A', 'Eb']], [53, []], [54, []]]\n"
     ]
    }
   ],
   "source": [
    "print(generaciones)\n",
    "print(lineas)"
   ]
  },
  {
   "cell_type": "code",
   "execution_count": 11,
   "metadata": {},
   "outputs": [
    {
     "data": {
      "text/plain": [
       "numpy.str_"
      ]
     },
     "execution_count": 11,
     "metadata": {},
     "output_type": "execute_result"
    }
   ],
   "source": [
    "type(musica[i][j])"
   ]
  },
  {
   "cell_type": "code",
   "execution_count": null,
   "metadata": {},
   "outputs": [],
   "source": []
  }
 ],
 "metadata": {
  "kernelspec": {
   "display_name": "Python 3",
   "language": "python",
   "name": "python3"
  },
  "language_info": {
   "codemirror_mode": {
    "name": "ipython",
    "version": 3
   },
   "file_extension": ".py",
   "mimetype": "text/x-python",
   "name": "python",
   "nbconvert_exporter": "python",
   "pygments_lexer": "ipython3",
   "version": "3.6.9"
  }
 },
 "nbformat": 4,
 "nbformat_minor": 2
}
